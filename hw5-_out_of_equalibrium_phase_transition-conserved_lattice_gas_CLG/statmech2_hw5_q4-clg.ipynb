{
 "cells": [
  {
   "cell_type": "code",
   "execution_count": 1,
   "id": "a2f1731d",
   "metadata": {},
   "outputs": [],
   "source": [
    "using Random\n",
    "using Plots"
   ]
  },
  {
   "cell_type": "code",
   "execution_count": null,
   "id": "0ca624f2",
   "metadata": {},
   "outputs": [],
   "source": [
    "mutable struct Particle\n",
    "    x::Int64\n",
    "    y::Int64\n",
    "    \n",
    "end;"
   ]
  },
  {
   "cell_type": "code",
   "execution_count": 82,
   "id": "a9c5a983",
   "metadata": {},
   "outputs": [],
   "source": [
    "# Function to initialize the particles on the lattice\n",
    "function initialize_particles!(lattice, N)\n",
    "    Random.seed!(1234)\n",
    "    Lx,Ly = size(lattice)\n",
    "    idx = shuffle(collect(1:Lx*Ly))[1:N]\n",
    "    lattice[idx] .= 1\n",
    "end;"
   ]
  },
  {
   "cell_type": "code",
   "execution_count": 58,
   "id": "782dc663",
   "metadata": {},
   "outputs": [
    {
     "name": "stdout",
     "output_type": "stream",
     "text": [
      "The element at index 4 is 4.\n"
     ]
    }
   ],
   "source": [
    "# Let's say you have a 2D array\n",
    "A = [1 4; 2 5; 3 6]  # 3x2 array\n",
    "\n",
    "# And you have a single index\n",
    "i = 4\n",
    "\n",
    "# You can access the element at that index with:\n",
    "element = A[i]\n",
    "\n",
    "println(\"The element at index $i is $element.\")"
   ]
  },
  {
   "cell_type": "code",
   "execution_count": 29,
   "id": "d3c29da6",
   "metadata": {},
   "outputs": [],
   "source": [
    "function calculate_active_particles(lattice)\n",
    "    active_particles = 0\n",
    "    L = size(lattice, 1) # Assuming lattice is a square\n",
    "    for i in 1:L\n",
    "        for j in 1:L\n",
    "            if lattice[i, j] == 1\n",
    "                # Check the four neighboring sites using periodic boundary conditions\n",
    "                neighbors = [(i % L) + 1, (i-2 % L) + 1, j, (j % L) + 1, (j-2 % L) + 1]\n",
    "                if any(lattice[neighbors[k]] == 1 for k in 1:4)\n",
    "                    active_particles += 1\n",
    "                end\n",
    "            end\n",
    "        end\n",
    "    end\n",
    "    return active_particles\n",
    "end;"
   ]
  },
  {
   "cell_type": "code",
   "execution_count": 523,
   "id": "a5651a5a",
   "metadata": {},
   "outputs": [],
   "source": [
    "function NearestNeighbors(lat, x,y)\n",
    "    Lx, Ly = size(lat)\n",
    "    nn = zeros(Int64, 4)\n",
    "    \n",
    "    xp = mod(x, Lx) + 1\n",
    "    yp = mod(y, Ly) + 1\n",
    "    xm = mod(x - 2, Lx) + 1\n",
    "    ym = mod(y - 2, Ly) + 1\n",
    "    \n",
    "    nn[1] = PointToIndex(lat, Point2D(xm, y)) # Left neighbor\n",
    "    nn[2] = PointToIndex(lat, Point2D(xp, y)) # Right neighbor\n",
    "    nn[3] = PointToIndex(lat, Point2D(x, ym)) # Upper neighbor\n",
    "    nn[4] = PointToIndex(lat, Point2D(x, yp)) # Lower neighbor\n",
    "    \n",
    "    return nn\n",
    "end;"
   ]
  },
  {
   "cell_type": "code",
   "execution_count": 30,
   "id": "8bd4ecdc",
   "metadata": {},
   "outputs": [],
   "source": [
    "function update_lattice!(lattice)\n",
    "    L = size(lattice, 1) # Assuming lattice is a square\n",
    "    for i in 1:L\n",
    "        for j in 1:L\n",
    "            if lattice[i, j] == 1\n",
    "                # Check the four neighboring sites using periodic boundary conditions\n",
    "                neighbors = [(i % L) + 1, (i-2 % L) + 1, j, (j % L) + 1, (j-2 % L) + 1]\n",
    "                neighbors = NearestNeighbors\n",
    "                if any(lattice[neighbors[k]] == 1 for k in 1:4)\n",
    "                    # Find empty neighbors\n",
    "                    empty_neighbors = [k for k in neighbors if lattice[k] == 0]\n",
    "                    if !isempty(empty_neighbors)\n",
    "                        # Choose a random empty neighbor\n",
    "                        new_site = rand(empty_neighbors)\n",
    "                        # Move the particle to the new site\n",
    "                        lattice[i, j] = 0\n",
    "                        lattice[new_site] = 1\n",
    "                    end\n",
    "                end\n",
    "            end\n",
    "        end\n",
    "    end\n",
    "end;"
   ]
  },
  {
   "cell_type": "code",
   "execution_count": 31,
   "id": "806d25ef",
   "metadata": {},
   "outputs": [],
   "source": [
    "# Function to run the simulation\n",
    "function run_simulation(lattice, N, steps)\n",
    "    initialize_particles!(lattice, N)\n",
    "    for t in 1:steps\n",
    "        update_lattice!(lattice)\n",
    "    end\n",
    "    return calculate_active_particles(lattice)\n",
    "end;"
   ]
  },
  {
   "cell_type": "code",
   "execution_count": 520,
   "id": "b04dd5fe",
   "metadata": {},
   "outputs": [],
   "source": [
    "# Define the lattice size and dimension\n",
    "L = 64\n",
    "d = 2\n",
    "\n",
    "# Initialize the lattice\n",
    "lattice = zeros(Int, L, L);"
   ]
  },
  {
   "cell_type": "code",
   "execution_count": 521,
   "id": "a7f3bd3e",
   "metadata": {},
   "outputs": [
    {
     "ename": "LoadError",
     "evalue": "BoundsError: attempt to access 64×64 Matrix{Int64} at index [0]",
     "output_type": "error",
     "traceback": [
      "BoundsError: attempt to access 64×64 Matrix{Int64} at index [0]",
      "",
      "Stacktrace:",
      "  [1] getindex",
      "    @ ./essentials.jl:13 [inlined]",
      "  [2] #30",
      "    @ ./none:0 [inlined]",
      "  [3] iterate",
      "    @ ./iterators.jl:518 [inlined]",
      "  [4] iterate",
      "    @ ./generator.jl:44 [inlined]",
      "  [5] grow_to!(dest::Vector{Int64}, itr::Base.Generator{Base.Iterators.Filter{var\"#30#32\"{Matrix{Int64}}, Vector{Int64}}, typeof(identity)}, st::Int64)",
      "    @ Base ./array.jl:938",
      "  [6] grow_to!(dest::Vector{Int64}, itr::Base.Generator{Base.Iterators.Filter{var\"#30#32\"{Matrix{Int64}}, Vector{Int64}}, typeof(identity)})",
      "    @ Base ./array.jl:911",
      "  [7] collect",
      "    @ ./array.jl:831 [inlined]",
      "  [8] update_lattice!(lattice::Matrix{Int64})",
      "    @ Main ./In[30]:10",
      "  [9] run_simulation(lattice::Matrix{Int64}, N::Int64, steps::Int64)",
      "    @ Main ./In[31]:5",
      " [10] (::var\"#39#40\")(ϕ::Float64)",
      "    @ Main ./none:0",
      " [11] iterate",
      "    @ ./generator.jl:47 [inlined]",
      " [12] collect_to!(dest::Vector{Float64}, itr::Base.Generator{StepRangeLen{Float64, Base.TwicePrecision{Float64}, Base.TwicePrecision{Float64}, Int64}, var\"#39#40\"}, offs::Int64, st::Int64)",
      "    @ Base ./array.jl:892",
      " [13] collect_to_with_first!(dest::Vector{Float64}, v1::Float64, itr::Base.Generator{StepRangeLen{Float64, Base.TwicePrecision{Float64}, Base.TwicePrecision{Float64}, Int64}, var\"#39#40\"}, st::Int64)",
      "    @ Base ./array.jl:870",
      " [14] collect(itr::Base.Generator{StepRangeLen{Float64, Base.TwicePrecision{Float64}, Base.TwicePrecision{Float64}, Int64}, var\"#39#40\"})",
      "    @ Base ./array.jl:844",
      " [15] top-level scope",
      "    @ In[521]:2"
     ]
    }
   ],
   "source": [
    "# Run the simulation for different densities\n",
    "densities = range(0, stop=1, length=100)\n",
    "active_fractions = [run_simulation(lattice, round(Int, ϕ * L^d), 1000) / (ϕ * L^d) for ϕ in densities];"
   ]
  },
  {
   "cell_type": "code",
   "execution_count": null,
   "id": "34e320a6",
   "metadata": {},
   "outputs": [],
   "source": [
    "# Plot the active fraction as a function of density\n",
    "plot(densities, active_fractions)"
   ]
  }
 ],
 "metadata": {
  "kernelspec": {
   "display_name": "Julia 1.10.2",
   "language": "julia",
   "name": "julia-1.10"
  },
  "language_info": {
   "file_extension": ".jl",
   "mimetype": "application/julia",
   "name": "julia",
   "version": "1.10.2"
  }
 },
 "nbformat": 4,
 "nbformat_minor": 5
}
