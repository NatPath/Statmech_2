{
 "cells": [
  {
   "cell_type": "code",
   "execution_count": null,
   "id": "ecc06021",
   "metadata": {
    "scrolled": true
   },
   "outputs": [],
   "source": [
    "import Pkg; Pkg.add(\"Plots\")"
   ]
  },
  {
   "cell_type": "code",
   "execution_count": null,
   "id": "2b97a7a7",
   "metadata": {
    "scrolled": true
   },
   "outputs": [],
   "source": [
    "import Pkg; Pkg.add(\"Makie\")"
   ]
  },
  {
   "cell_type": "code",
   "execution_count": null,
   "id": "f7f16beb",
   "metadata": {},
   "outputs": [],
   "source": [
    "using Makie\n",
    "using ColorSchemes, Colors"
   ]
  },
  {
   "cell_type": "code",
   "execution_count": null,
   "id": "2dc1dc17",
   "metadata": {},
   "outputs": [],
   "source": [
    "#usings\n",
    "using Plots\n"
   ]
  },
  {
   "cell_type": "code",
   "execution_count": null,
   "id": "20a0693f",
   "metadata": {},
   "outputs": [],
   "source": [
    "# make sudoko"
   ]
  },
  {
   "cell_type": "code",
   "execution_count": null,
   "id": "0ec2250f",
   "metadata": {},
   "outputs": [],
   "source": [
    "box_index_from_grid_indices(i,j,l)=Int8(1+closest_n_multiple(i-1,l)+closest_n_multiple(j-1,l)/l)"
   ]
  },
  {
   "cell_type": "code",
   "execution_count": null,
   "id": "2f9e9562",
   "metadata": {},
   "outputs": [],
   "source": [
    "grid_indices_from_box_index(n,l)=(Int8((n-1)÷l+1),Int8((n-1)%l+1))"
   ]
  },
  {
   "cell_type": "code",
   "execution_count": null,
   "id": "15094d49",
   "metadata": {},
   "outputs": [],
   "source": [
    "closest_n_multiple(x,n)=x-x%n"
   ]
  },
  {
   "cell_type": "code",
   "execution_count": null,
   "id": "b4a3efa1",
   "metadata": {},
   "outputs": [],
   "source": [
    "struct Sudoku\n",
    "    l::Int8\n",
    "    board::Matrix{Int8}\n",
    "    rows_histograms::Matrix{Int8}\n",
    "    cols_histograms::Matrix{Int8}\n",
    "    boxes_histograms::Matrix{Int8}\n",
    "    function Sudoku(l::Int8,init_str::String)\n",
    "        board=zeros(Int8,l^2,l^2)\n",
    "        rows_histograms=zeros(Int8,l^2,l^2)\n",
    "        cols_histograms=zeros(Int8,l^2,l^2)\n",
    "        boxes_histograms=zeros(Int8,l^2,l^2)\n",
    "        if init_str==\"rows\"\n",
    "            for i in range(1,l^2)\n",
    "                for j in range(1,l^2)\n",
    "                    board[i,j]=i\n",
    "                    cols_histograms[i,j]=1\n",
    "                end\n",
    "                #init p'th box histogram\n",
    "                p=i\n",
    "                (i′,j′)=grid_indices_from_box_index(p,l)\n",
    "                for k in range(1,l)\n",
    "                    boxes_histograms[p,closest_n_multiple(i′-1,l)+k]=l               \n",
    "                end\n",
    "                rows_histograms[i,i]=l^2\n",
    "            end\n",
    "            \n",
    "        end\n",
    "        if init_str==\"columns\"\n",
    "            for i in range(1,l^2)\n",
    "                for j in range(1,l^2)\n",
    "                    board[i,j]=j\n",
    "                    rows_histograms[i,j]=1\n",
    "                end\n",
    "                #init p'th box histogram\n",
    "                p=i\n",
    "                (i′,j′)=grid_indices_from_box_index(p,l)\n",
    "                for k in range(1,l)\n",
    "                    boxes_histograms[p,closest_n_multiple(j′-1,l)+k]=l                    \n",
    "                end\n",
    "                cols_histograms[i,i]=l^2\n",
    "            end\n",
    "        end\n",
    "        if init_str==\"box\"\n",
    "            for i in range(1,l^2)\n",
    "                for j in range(1,l^2)\n",
    "                    board[i,j]=box_index_from_grid_indices(i,j,l)\n",
    "                end\n",
    "                for k in range(0,l-1)\n",
    "                    rows_histograms[i,Int8(closest_n_multiple(i-1,l)+k+1)]=l\n",
    "                    cols_histograms[i,Int8(closest_n_multiple(i-1,l)/l+1+k*l)]=l\n",
    "                end\n",
    "                boxes_histograms[i,i]=l^2\n",
    "            end\n",
    "        end\n",
    "        new(l,board,rows_histograms,cols_histograms,boxes_histograms)\n",
    "    end\n",
    "end"
   ]
  },
  {
   "cell_type": "code",
   "execution_count": null,
   "id": "eab16eec",
   "metadata": {},
   "outputs": [],
   "source": [
    "function countPairsInRow(sudoku::Sudoku, i)\n",
    "    sum=0\n",
    "    for val in range(1,sudoku.l^2)\n",
    "        sum+=binomial(sudoku.rows_histograms[i,val],2)\n",
    "    end\n",
    "    return sum\n",
    "end"
   ]
  },
  {
   "cell_type": "code",
   "execution_count": null,
   "id": "56a4d5c9",
   "metadata": {},
   "outputs": [],
   "source": [
    "function countPairsInColumn(sudoku::Sudoku, j)\n",
    "    sum=0\n",
    "    for val in range(1,sudoku.l^2)\n",
    "        sum+=binomial(sudoku.cols_histograms[j,val],2)\n",
    "    end\n",
    "    return sum    \n",
    "end"
   ]
  },
  {
   "cell_type": "code",
   "execution_count": null,
   "id": "2f144bc0",
   "metadata": {},
   "outputs": [],
   "source": [
    "function countPairsInBox(sudoku::Sudoku, n)\n",
    "    sum=0\n",
    "    for val in range(1,sudoku.l^2)\n",
    "        sum+=binomial(sudoku.boxes_histograms[n,val],2)\n",
    "    end\n",
    "    return sum \n",
    "end"
   ]
  },
  {
   "cell_type": "code",
   "execution_count": null,
   "id": "3415ac95",
   "metadata": {},
   "outputs": [],
   "source": [
    "function countPairsTotal(sudoku::Sudoku)\n",
    "    sum=0\n",
    "    for i in range(1,sudoku.l^2)\n",
    "        sum+=countPairsInRow(sudoku,i)\n",
    "    end\n",
    "    for j in range(1,sudoku.l^2)\n",
    "        sum+=countPairsInColumn(sudoku,j)\n",
    "    end\n",
    "    for n in range(1,sudoku.l^2)\n",
    "        sum+=countPairsInBox(sudoku,n)\n",
    "    end\n",
    "    \n",
    "    return sum \n",
    "end"
   ]
  },
  {
   "cell_type": "code",
   "execution_count": null,
   "id": "3ab83129",
   "metadata": {},
   "outputs": [],
   "source": [
    "function energy_of_sudoku(sudoku::Sudoku, highest_energy)\n",
    "    return countPairsTotal(sudoku)/highest_energy\n",
    "end"
   ]
  },
  {
   "cell_type": "code",
   "execution_count": null,
   "id": "69eeae92",
   "metadata": {},
   "outputs": [],
   "source": [
    "function pick_random_pair_of_sites(l)\n",
    "    random_site=[rand(0:l^2-1),rand(0:l^2-1)]\n",
    "    random_dist=[0,0]\n",
    "    while (random_dist[1]==0 && random_dist[2]==0)\n",
    "        random_dist[1]=rand(0:l^2-1)\n",
    "        random_dist[2]=rand(0:l^2-1)\n",
    "    end\n",
    "    random_site′=((random_site+random_dist).%(l^2)).+1\n",
    "    random_site=random_site.+1\n",
    "    @assert (random_site[1]!=random_site′[1] || random_site[2]!=random_site′[2]) \"Error: picked the same site $random_site $random_site′ $random_dist\"\n",
    "    return (random_site,random_site′)\n",
    "end"
   ]
  },
  {
   "cell_type": "code",
   "execution_count": null,
   "id": "c26d4a53",
   "metadata": {},
   "outputs": [],
   "source": [
    "function switch_sites!(sudoku,i,j,i′,j′)\n",
    "    val=sudoku.board[i,j]\n",
    "    val′=sudoku.board[i′,j′]\n",
    "    if val==val′\n",
    "        return\n",
    "    end\n",
    "    n=box_index_from_grid_indices(i,j,sudoku.l)\n",
    "    n′=box_index_from_grid_indices(i′,j′,sudoku.l)\n",
    "    sudoku.board[i,j]=val′\n",
    "    sudoku.board[i′,j′]=val\n",
    "    \n",
    "    #update histograms\n",
    "    sudoku.cols_histograms[j,val]-=1\n",
    "    sudoku.cols_histograms[j,val′]+=1\n",
    "    sudoku.rows_histograms[i,val]-=1\n",
    "    sudoku.rows_histograms[i,val′]+=1\n",
    "    sudoku.boxes_histograms[n,val]-=1\n",
    "    sudoku.boxes_histograms[n,val′]+=1\n",
    "    \n",
    "    sudoku.cols_histograms[j′,val]+=1\n",
    "    sudoku.cols_histograms[j′,val′]-=1\n",
    "    sudoku.rows_histograms[i′,val′]-=1\n",
    "    sudoku.rows_histograms[i′,val]+=1\n",
    "    sudoku.boxes_histograms[n′,val]+=1\n",
    "    sudoku.boxes_histograms[n′,val′]-=1\n",
    "end"
   ]
  },
  {
   "cell_type": "code",
   "execution_count": null,
   "id": "fb8f9111",
   "metadata": {},
   "outputs": [],
   "source": [
    "function acceptance_rate(E,E′,T)\n",
    "    if ( E<E′ && T==0 )\n",
    "        return 0\n",
    "    end\n",
    "    if E<E′\n",
    "        return exp(-(E-E′)/T)\n",
    "    end\n",
    "    return 1\n",
    "end"
   ]
  },
  {
   "cell_type": "code",
   "execution_count": null,
   "id": "098fa1b0",
   "metadata": {},
   "outputs": [],
   "source": [
    "function print_histograms(sudoku)\n",
    "    println(\"cols one by one:\")\n",
    "    for j in range(1,sudoku.l^2)\n",
    "        println(\"col $j\")\n",
    "        println(sudoku.cols_histograms[j,:])\n",
    "    end\n",
    "    println(\"cols histogram together:\")\n",
    "    println(sudoku.cols_histograms)\n",
    "    println(\"rows one by one:\")\n",
    "    for i in range(1,sudoku.l^2)\n",
    "        println(\"row $i\")\n",
    "        println(sudoku.rows_histograms[i,:])\n",
    "    end\n",
    "    println(\"rows histogram together:\")\n",
    "    println(sudoku.rows_histograms)\n",
    "    println(\"boxes one by one:\")\n",
    "    for n in range(1,sudoku.l^2)\n",
    "        println(\"box $n\")\n",
    "        println(sudoku.boxes_histograms[n,:])\n",
    "    end\n",
    "    println(\"boxes histogram together:\")\n",
    "    println(sudoku.boxes_histograms)\n",
    "end"
   ]
  },
  {
   "cell_type": "code",
   "execution_count": null,
   "id": "61ebecca",
   "metadata": {
    "scrolled": true
   },
   "outputs": [],
   "source": [
    "function find_ground_states_sudoku(l,T_scale=1,boosting=0)\n",
    "    sudoku=Sudoku(Int8(l),\"box\")\n",
    "    total_num_of_pairs=countPairsTotal(sudoku)\n",
    "    println(\"Total_num_of_pairs=$total_num_of_pairs\")\n",
    "\n",
    "    steps=10^(l+1+boosting)\n",
    "    if T_scale==0\n",
    "       temperatures=[0] \n",
    "    else\n",
    "        temperatures=10*T_scale:-T_scale:0\n",
    "    end\n",
    "    energy=energy_of_sudoku(sudoku,total_num_of_pairs)\n",
    "    switches=Array{Tuple}(undef,0)\n",
    "    energies=[energy]\n",
    "    for T in temperatures\n",
    "        for n in range(1,steps)\n",
    "            (site,site′)=pick_random_pair_of_sites(l)\n",
    "            sites=(site,site′)\n",
    "            i=site[1]\n",
    "            j=site[2]\n",
    "            i′=site′[1]\n",
    "            j′=site′[2]\n",
    "            last_energy=last(energies)\n",
    "            switched=(i,j,i′,j′)\n",
    "            switch_sites!(sudoku,i,j,i′,j′)\n",
    "            energy′=energy_of_sudoku(sudoku,total_num_of_pairs)\n",
    "            randnum=rand()\n",
    "            if randnum>=acceptance_rate(last(energies),energy′,T)\n",
    "                switch_sites!(sudoku,i,j,i′,j′)\n",
    "                push!(energies,last(energies))\n",
    "            else\n",
    "                push!(energies,energy′)\n",
    "                push!(switches,(i,j,i′,j′))\n",
    "            end\n",
    "        end\n",
    "    end\n",
    "\n",
    "    total_num_of_pairs=countPairsTotal(sudoku)\n",
    "    println(\"Total_num_of_pairs=$total_num_of_pairs\")\n",
    "    ax=heatmap(sudoku.board, aspect_ratio=:equal, color=:viridis, clim=(0,l^2))\n",
    "    res_plot=plot(0:steps*length(temperatures),energies)\n",
    "    return (ax, total_num_of_pairs,res_plot)\n",
    "end"
   ]
  },
  {
   "cell_type": "markdown",
   "id": "5dd8de92",
   "metadata": {},
   "source": [
    "***l=2***"
   ]
  },
  {
   "cell_type": "markdown",
   "id": "61473ca3",
   "metadata": {},
   "source": [
    "Constant zero temperature:"
   ]
  },
  {
   "cell_type": "code",
   "execution_count": null,
   "id": "3eae3f36",
   "metadata": {},
   "outputs": [],
   "source": [
    "res2_T0=find_ground_states_sudoku(2,0)"
   ]
  },
  {
   "cell_type": "code",
   "execution_count": null,
   "id": "18583e8d",
   "metadata": {},
   "outputs": [],
   "source": [
    "res2_T0_2=res2_T0[2]\n",
    "println(\"ground state reached = $res2_T0_2\")\n",
    "res2_T0[1]"
   ]
  },
  {
   "cell_type": "code",
   "execution_count": null,
   "id": "f7c0731c",
   "metadata": {},
   "outputs": [],
   "source": [
    "res2_T0[3]"
   ]
  },
  {
   "cell_type": "markdown",
   "id": "793c2ec3",
   "metadata": {},
   "source": [
    "Decreasing temperatures:"
   ]
  },
  {
   "cell_type": "code",
   "execution_count": null,
   "id": "c67dc28f",
   "metadata": {},
   "outputs": [],
   "source": [
    "res2=find_ground_states_sudoku(2)"
   ]
  },
  {
   "cell_type": "code",
   "execution_count": null,
   "id": "44ee4a3d",
   "metadata": {
    "scrolled": true
   },
   "outputs": [],
   "source": [
    "res22=res2[2]\n",
    "println(\"ground state reached = $res22\")\n",
    "res2[1]"
   ]
  },
  {
   "cell_type": "code",
   "execution_count": null,
   "id": "48461da8",
   "metadata": {
    "scrolled": true
   },
   "outputs": [],
   "source": [
    "res2[3]"
   ]
  },
  {
   "cell_type": "markdown",
   "id": "5f723d68",
   "metadata": {},
   "source": [
    "***l=3***"
   ]
  },
  {
   "cell_type": "markdown",
   "id": "1c55f292",
   "metadata": {},
   "source": [
    "Constant zero temperature:"
   ]
  },
  {
   "cell_type": "code",
   "execution_count": null,
   "id": "65d7a55f",
   "metadata": {},
   "outputs": [],
   "source": [
    "res3_T0=find_ground_states_sudoku(3,0)"
   ]
  },
  {
   "cell_type": "code",
   "execution_count": null,
   "id": "7dfc1a7e",
   "metadata": {},
   "outputs": [],
   "source": [
    "res3_T0_2=res3_T0[2]\n",
    "println(\"ground state reached = $res3_T0_2\")\n",
    "res3_T0[1]"
   ]
  },
  {
   "cell_type": "code",
   "execution_count": null,
   "id": "3b41d76d",
   "metadata": {},
   "outputs": [],
   "source": [
    "res3_T0[3]"
   ]
  },
  {
   "cell_type": "markdown",
   "id": "bb6ef5b1",
   "metadata": {},
   "source": [
    "Decreasing temperatures:"
   ]
  },
  {
   "cell_type": "code",
   "execution_count": null,
   "id": "41115582",
   "metadata": {
    "scrolled": true
   },
   "outputs": [],
   "source": [
    "res3=find_ground_states_sudoku(3)"
   ]
  },
  {
   "cell_type": "code",
   "execution_count": null,
   "id": "82170b54",
   "metadata": {},
   "outputs": [],
   "source": [
    "res32=res3[2]\n",
    "println(\"ground state reached = $res32\")\n",
    "res3[1]"
   ]
  },
  {
   "cell_type": "code",
   "execution_count": null,
   "id": "ad52eff1",
   "metadata": {
    "scrolled": false
   },
   "outputs": [],
   "source": [
    "res3[3]"
   ]
  },
  {
   "cell_type": "markdown",
   "id": "859ce05e",
   "metadata": {},
   "source": [
    "***l=4***"
   ]
  },
  {
   "cell_type": "markdown",
   "id": "02a05bae",
   "metadata": {},
   "source": [
    "Zero constant temperature:"
   ]
  },
  {
   "cell_type": "code",
   "execution_count": null,
   "id": "d7df3dab",
   "metadata": {},
   "outputs": [],
   "source": [
    "res4_T0=find_ground_states_sudoku(4,0,1)"
   ]
  },
  {
   "cell_type": "code",
   "execution_count": null,
   "id": "0ff6157d",
   "metadata": {},
   "outputs": [],
   "source": [
    "res4_T0_2=res4_T0[2]\n",
    "println(\"ground state reached = $res4_T0_2\")\n",
    "res4_T0[1]"
   ]
  },
  {
   "cell_type": "code",
   "execution_count": null,
   "id": "e4d2ff20",
   "metadata": {},
   "outputs": [],
   "source": [
    "res4_T0[3]"
   ]
  },
  {
   "cell_type": "markdown",
   "id": "c796e315",
   "metadata": {},
   "source": [
    "Decreasing temperatures:"
   ]
  },
  {
   "cell_type": "code",
   "execution_count": null,
   "id": "39ea3547",
   "metadata": {},
   "outputs": [],
   "source": [
    "res4′=find_ground_states_sudoku(4,1,1)"
   ]
  },
  {
   "cell_type": "code",
   "execution_count": null,
   "id": "af3b1e62",
   "metadata": {},
   "outputs": [],
   "source": [
    "res4′2=res4′[2]\n",
    "println(\"ground state reached = $res4′2\")\n",
    "res4′[1]"
   ]
  },
  {
   "cell_type": "code",
   "execution_count": null,
   "id": "a94b5621",
   "metadata": {
    "scrolled": true
   },
   "outputs": [],
   "source": [
    "res4′[3]"
   ]
  }
 ],
 "metadata": {
  "kernelspec": {
   "display_name": "Julia 1.10.0",
   "language": "julia",
   "name": "julia-1.10"
  },
  "language_info": {
   "file_extension": ".jl",
   "mimetype": "application/julia",
   "name": "julia",
   "version": "1.10.0"
  }
 },
 "nbformat": 4,
 "nbformat_minor": 5
}
