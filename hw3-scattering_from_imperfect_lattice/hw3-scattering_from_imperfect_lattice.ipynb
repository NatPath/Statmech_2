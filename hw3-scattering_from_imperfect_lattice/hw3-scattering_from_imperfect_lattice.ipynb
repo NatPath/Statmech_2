{
 "cells": [
  {
   "cell_type": "code",
   "execution_count": 1,
   "id": "57e246e6",
   "metadata": {},
   "outputs": [],
   "source": [
    "using Plots\n",
    "using Statistics\n",
    "using FFTW\n",
    "using Random"
   ]
  },
  {
   "cell_type": "code",
   "execution_count": 105,
   "id": "d906e5a2",
   "metadata": {},
   "outputs": [],
   "source": [
    "function S(lattice::Array{Float64}, k::Float64)\n",
    "    N = length(lattice)\n",
    "    n = sum(lattice .== 0)\n",
    "    s = 0.0\n",
    "    for i in 1:N\n",
    "        for j in 1:N\n",
    "            if i != j && lattice[i] != 0 && lattice[j] != 0 \n",
    "                s += exp(im * k * (i - j))\n",
    "            end\n",
    "        end\n",
    "    end\n",
    "    return abs(s)^2 / (N - n)\n",
    "end;"
   ]
  },
  {
   "cell_type": "code",
   "execution_count": 97,
   "id": "09c39af9",
   "metadata": {},
   "outputs": [],
   "source": [
    "function imperfect_lattice(N::Int, p::Float64)\n",
    "    n = round(Int, N * p)\n",
    "    lattice = ones(N)\n",
    "    rand_indices = randperm(N)[1:n]\n",
    "    lattice[rand_indices] .= 0\n",
    "    return lattice\n",
    "end;"
   ]
  },
  {
   "cell_type": "code",
   "execution_count": 82,
   "id": "645710b4",
   "metadata": {},
   "outputs": [],
   "source": [
    "function average_S(N::Int, p::Float64, k::Int, num_configs::Int)\n",
    "    s_values = zeros(num_configs)\n",
    "    for i in 1:num_configs\n",
    "        lattice = imperfect_lattice(N, p)\n",
    "        s_values[i] = S(lattice, k)\n",
    "    end\n",
    "    return mean(s_values)\n",
    "end"
   ]
  },
  {
   "cell_type": "code",
   "execution_count": 201,
   "id": "b3e1a7ac",
   "metadata": {},
   "outputs": [],
   "source": [
    "function running_average_S(lattice::Array{Float64},k_arr::LinRange{Float64, Int64}, batchsize::Int)\n",
    "    \n",
    "    dk=k_arr[2]-k_arr[1]\n",
    "    k_arr_extended=[LinRange(k[1]-batchsize*dk,k[1]-dk,batchsize-1);k_arr]\n",
    "    S_arr=zeros(length(k_arr_extended))\n",
    "    for (i,k) in enumerate(k_arr_extended)\n",
    "        S_arr[i]=S(lattice,k)\n",
    "    end\n",
    "    s_mean_values = zeros(length(k_arr))\n",
    "    for (i,k) in enumerate(k_arr)\n",
    "        if i==1\n",
    "            s_mean_values[i]=mean([S_arr[j] for j in i:(i+batchsize)])\n",
    "        else\n",
    "            s_mean_values[i]=(s_mean_values[i-1]*batchsize - S_arr[i-1] + S_arr[i+batchsize-1])/batchsize\n",
    "        end\n",
    "    end\n",
    "    return s_mean_values\n",
    "end;"
   ]
  },
  {
   "cell_type": "code",
   "execution_count": 216,
   "id": "45bab471",
   "metadata": {},
   "outputs": [],
   "source": [
    "function plot_averages(N::Int, p::Float64, k_arr::LinRange{Float64, Int64}, num_configs::Int,batchsize::Int)\n",
    "    lattice = imperfect_lattice(N, p)\n",
    "    avg_S = [average_S(N, p, k, num_configs) for k in k_arr]\n",
    "    running_avg_S = running_average_S(lattice,k_arr,batchsize)\n",
    "    #scatter(k_arr, running_avg_S, label=\"Running Average\",yscale=:log10)\n",
    "    #scatter!(k_arr,avg_S, label=\"Average S(k)\",yscale=:log10)\n",
    "    plot(k_arr, running_avg_S, label=\"Running Average\",xlabel=\"k\",ylabel=\"S(k)\",yscale=:log10)\n",
    "    plot!(k_arr,avg_S, label=\"Average S(k)\",yscale=:log10)\n",
    "    return running_avg_S\n",
    "end;"
   ]
  },
  {
   "cell_type": "code",
   "execution_count": 226,
   "id": "456db0f6",
   "metadata": {},
   "outputs": [],
   "source": [
    "N = 200\n",
    "p = 0.5\n",
    "nk=1001\n",
    "batchsize=10\n",
    "k_arr = LinRange(-π,π,nk)\n",
    "dk=k_arr[2]-k_arr[1]\n",
    "num_configs = 100\n",
    "running_avg_S=plot_averages(N, p, k_arr, num_configs,batchsize);"
   ]
  },
  {
   "cell_type": "code",
   "execution_count": 227,
   "id": "74089b4a",
   "metadata": {},
   "outputs": [
    {
     "data": {
      "text/plain": [
       "0.06283185307179195"
      ]
     },
     "execution_count": 227,
     "metadata": {},
     "output_type": "execute_result"
    }
   ],
   "source": [
    "height = maximum(running_avg_S)\n",
    "width = length(running_avg_S[(running_avg_S.>=height/2) .& (running_avg_S.<=height)])*dk"
   ]
  },
  {
   "cell_type": "code",
   "execution_count": 233,
   "id": "3adcb947",
   "metadata": {},
   "outputs": [
    {
     "name": "stdout",
     "output_type": "stream",
     "text": [
      "height = 325790.66100933996, width = 0.06283185307179195 \n"
     ]
    }
   ],
   "source": [
    "println(\"height = $height, width = $width \")"
   ]
  },
  {
   "cell_type": "code",
   "execution_count": 235,
   "id": "75ddb0c4",
   "metadata": {},
   "outputs": [
    {
     "data": {
      "text/plain": [
       "0.019999999999998755"
      ]
     },
     "execution_count": 235,
     "metadata": {},
     "output_type": "execute_result"
    }
   ],
   "source": [
    "width/π"
   ]
  },
  {
   "cell_type": "code",
   "execution_count": 237,
   "id": "9c6084e6",
   "metadata": {},
   "outputs": [
    {
     "data": {
      "text/plain": [
       "0.06283185307179587"
      ]
     },
     "execution_count": 237,
     "metadata": {},
     "output_type": "execute_result"
    }
   ],
   "source": [
    "π/50"
   ]
  },
  {
   "cell_type": "code",
   "execution_count": 238,
   "id": "93218705",
   "metadata": {},
   "outputs": [],
   "source": [
    "function running_avg_S_stats_for_N_p(N,p,batchsize,k_arr)\n",
    "    dk=k_arr[2]-k_arr[1]\n",
    "    lattice = imperfect_lattice(N, p)\n",
    "    running_avg_S = running_average_S(lattice,k_arr,batchsize)\n",
    "    height = maximum(running_avg_S)\n",
    "    width = length(running_avg_S[(running_avg_S.>=height/2) .& (running_avg_S.<=height)])*dk\n",
    "    return (height,width)\n",
    "end;"
   ]
  },
  {
   "cell_type": "code",
   "execution_count": null,
   "id": "67e8e1ae",
   "metadata": {},
   "outputs": [],
   "source": [
    "N_array=[10*m for m in 1:100]\n",
    "height_width_arr = [running_avg_S_stats_for_N_p(Np,p,batchsize,k_arr) for Np in N_array];"
   ]
  },
  {
   "cell_type": "code",
   "execution_count": null,
   "id": "2d9ad68b",
   "metadata": {},
   "outputs": [],
   "source": [
    "height=[ height_width[1] for height_width in height_width_arr]\n",
    "width=[ height_width[2] for height_width in height_width_arr];"
   ]
  },
  {
   "cell_type": "code",
   "execution_count": null,
   "id": "3cea5c06",
   "metadata": {},
   "outputs": [],
   "source": [
    "plot(N_array,width,title=\"width(N)\",xlabel=\"N\",ylabel=\"width\",xscale=:log10,yscale=:log10)"
   ]
  },
  {
   "cell_type": "code",
   "execution_count": null,
   "id": "32bcdfc5",
   "metadata": {},
   "outputs": [],
   "source": [
    "plot(N_array,height,title=\"height(N)\",xlabel=\"N\",ylabel=\"height\",xscale=:log10,yscale=:log10)"
   ]
  }
 ],
 "metadata": {
  "kernelspec": {
   "display_name": "Julia 1.10.0",
   "language": "julia",
   "name": "julia-1.10"
  },
  "language_info": {
   "file_extension": ".jl",
   "mimetype": "application/julia",
   "name": "julia",
   "version": "1.10.0"
  }
 },
 "nbformat": 4,
 "nbformat_minor": 5
}
