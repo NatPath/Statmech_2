{
 "cells": [
  {
   "cell_type": "markdown",
   "id": "e14d37c7",
   "metadata": {},
   "source": [
    "Imports"
   ]
  },
  {
   "cell_type": "code",
   "execution_count": 17,
   "id": "671b6ac6",
   "metadata": {},
   "outputs": [],
   "source": [
    "using Plots"
   ]
  },
  {
   "cell_type": "markdown",
   "id": "ddefeac3",
   "metadata": {},
   "source": [
    "Auxilary functions"
   ]
  },
  {
   "cell_type": "code",
   "execution_count": null,
   "id": "d8b07e57",
   "metadata": {},
   "outputs": [],
   "source": [
    "function g(r,dr,V,arr)\n",
    "    count=0\n",
    "    for a in arr\n",
    "        for b in arr\n",
    "            dist=distance(a,b)\n",
    "            if r<dist<r+dr\n",
    "                count+=1\n",
    "        end\n",
    "    end\n",
    "    count/=2 # each pair is counted twice\n",
    "    size=size(arr)\n",
    "    return count/(2*π*r*dr*N)\n",
    "end"
   ]
  },
  {
   "cell_type": "code",
   "execution_count": 11,
   "id": "6336b67f",
   "metadata": {},
   "outputs": [
    {
     "data": {
      "text/plain": [
       "300"
      ]
     },
     "execution_count": 11,
     "metadata": {},
     "output_type": "execute_result"
    }
   ],
   "source": [
    "Lx=100\n",
    "Ly=100\n",
    "dr=0.01\n",
    "N=300"
   ]
  },
  {
   "cell_type": "markdown",
   "id": "939961f2",
   "metadata": {},
   "source": [
    "(a) Randomly place point particles"
   ]
  },
  {
   "cell_type": "code",
   "execution_count": null,
   "id": "368c3558",
   "metadata": {},
   "outputs": [],
   "source": [
    "function place_N_particles_in_Box_randomly(Lx, Ly, N)\n",
    "    particles_arr=[]\n",
    "    for i in range(1,N)\n",
    "        push!(particles_arr,(rand(0:Lx),rand(0:Ly)))\n",
    "    end \n",
    "    return particles_arr\n",
    "end"
   ]
  },
  {
   "cell_type": "markdown",
   "id": "52497fdf",
   "metadata": {},
   "source": [
    "(b) Randomly squential addition"
   ]
  },
  {
   "cell_type": "code",
   "execution_count": 43,
   "id": "0d6da381",
   "metadata": {},
   "outputs": [
    {
     "data": {
      "text/plain": [
       "is_overlapping (generic function with 1 method)"
      ]
     },
     "execution_count": 43,
     "metadata": {},
     "output_type": "execute_result"
    }
   ],
   "source": [
    "function is_overlapping(x,y,R,arr)\n",
    "    for elem in arr\n",
    "        distance=sqrt((elem[1]-x)^2+(elem[2]-y)^2)\n",
    "        if distance<=R\n",
    "            return true\n",
    "        end\n",
    "    end\n",
    "    return false\n",
    "end"
   ]
  },
  {
   "cell_type": "code",
   "execution_count": 54,
   "id": "9d89f856",
   "metadata": {},
   "outputs": [
    {
     "data": {
      "text/plain": [
       "random_pick_x_y (generic function with 1 method)"
      ]
     },
     "execution_count": 54,
     "metadata": {},
     "output_type": "execute_result"
    }
   ],
   "source": [
    "function random_pick_x_y(Lx,Ly)\n",
    "    x=rand(0:Lx)\n",
    "    y=rand(0:Ly)\n",
    "    x= Lx*rand()\n",
    "    y= Ly*rand()\n",
    "    return x,y\n",
    "end"
   ]
  },
  {
   "cell_type": "code",
   "execution_count": 55,
   "id": "c913e86c",
   "metadata": {},
   "outputs": [
    {
     "data": {
      "text/plain": [
       "(47.24382175051753, 7.910459216873223)"
      ]
     },
     "execution_count": 55,
     "metadata": {},
     "output_type": "execute_result"
    }
   ],
   "source": [
    "x,y = random_pick_x_y(Lx,Ly)"
   ]
  },
  {
   "cell_type": "code",
   "execution_count": 40,
   "id": "6197aed0",
   "metadata": {},
   "outputs": [
    {
     "data": {
      "text/plain": [
       "place_N_particles_in_Box_randomly_non_overlapping (generic function with 2 methods)"
      ]
     },
     "execution_count": 40,
     "metadata": {},
     "output_type": "execute_result"
    }
   ],
   "source": [
    "function place_N_particles_in_Box_randomly_non_overlapping(Lx, Ly,R, N)\n",
    "    particles_arr=[]\n",
    "    for i in range(1,N)\n",
    "        x,y = random_pick_x_y(Lx,Ly)\n",
    "        while is_overlapping(x,y,R,particles_arr) \n",
    "            x,y = random_pick_x_y(Lx,Ly)\n",
    "        end \n",
    "        push!(particles_arr,(x,y))\n",
    "    end \n",
    "    return particles_arr\n",
    "end"
   ]
  },
  {
   "cell_type": "code",
   "execution_count": 41,
   "id": "d93989a9",
   "metadata": {},
   "outputs": [
    {
     "data": {
      "text/plain": [
       "1"
      ]
     },
     "execution_count": 41,
     "metadata": {},
     "output_type": "execute_result"
    }
   ],
   "source": [
    "R=1"
   ]
  },
  {
   "cell_type": "code",
   "execution_count": 46,
   "id": "43c31858",
   "metadata": {
    "scrolled": true
   },
   "outputs": [
    {
     "data": {
      "text/plain": [
       "300-element Vector{Any}:\n",
       " (10, 31)\n",
       " (50, 94)\n",
       " (15, 4)\n",
       " (59, 83)\n",
       " (98, 46)\n",
       " (9, 36)\n",
       " (75, 98)\n",
       " (48, 67)\n",
       " (88, 9)\n",
       " (75, 0)\n",
       " (43, 27)\n",
       " (74, 72)\n",
       " (95, 39)\n",
       " ⋮\n",
       " (2, 53)\n",
       " (64, 33)\n",
       " (80, 93)\n",
       " (97, 88)\n",
       " (43, 56)\n",
       " (78, 34)\n",
       " (95, 8)\n",
       " (83, 25)\n",
       " (65, 1)\n",
       " (16, 6)\n",
       " (62, 28)\n",
       " (5, 26)"
      ]
     },
     "execution_count": 46,
     "metadata": {},
     "output_type": "execute_result"
    }
   ],
   "source": [
    "place_N_particles_in_Box_randomly_non_overlapping(Lx,Ly,R,N)"
   ]
  },
  {
   "cell_type": "code",
   "execution_count": null,
   "id": "f19ec069",
   "metadata": {},
   "outputs": [],
   "source": []
  },
  {
   "cell_type": "markdown",
   "id": "a891b67b",
   "metadata": {},
   "source": [
    "(c) Ordered particles"
   ]
  },
  {
   "cell_type": "code",
   "execution_count": null,
   "id": "7ab243a8",
   "metadata": {},
   "outputs": [],
   "source": []
  }
 ],
 "metadata": {
  "kernelspec": {
   "display_name": "Julia 1.10.0",
   "language": "julia",
   "name": "julia-1.10"
  },
  "language_info": {
   "file_extension": ".jl",
   "mimetype": "application/julia",
   "name": "julia",
   "version": "1.10.0"
  }
 },
 "nbformat": 4,
 "nbformat_minor": 5
}
